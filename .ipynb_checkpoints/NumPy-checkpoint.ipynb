{
 "cells": [
  {
   "cell_type": "markdown",
   "id": "cab7624f-c670-4856-be8f-902fee80602a",
   "metadata": {},
   "source": [
    "# NumPy"
   ]
  },
  {
   "cell_type": "markdown",
   "id": "981d6504-2fd1-4582-a106-921a917284bc",
   "metadata": {},
   "source": [
    "Servirá para crear vectores y matrices grandes multidimensionales, junto con una gran colección de funciones matemáticas de alto nivel"
   ]
  },
  {
   "cell_type": "code",
   "execution_count": 8,
   "id": "beef6cb5-0f19-4409-8bb5-5cd5d6be55f8",
   "metadata": {
    "tags": []
   },
   "outputs": [],
   "source": [
    "# importamos NumPy\n",
    "import numpy as np"
   ]
  },
  {
   "cell_type": "code",
   "execution_count": 3,
   "id": "97f510ae-d3bf-4407-a27e-05401aeebc6e",
   "metadata": {
    "tags": []
   },
   "outputs": [],
   "source": [
    "arreglo = np.array([1,2,3,4,5])"
   ]
  },
  {
   "cell_type": "code",
   "execution_count": 4,
   "id": "905fa5ec-29ef-4d1c-932e-fc8d0689fc3b",
   "metadata": {
    "tags": []
   },
   "outputs": [
    {
     "data": {
      "text/plain": [
       "numpy.ndarray"
      ]
     },
     "execution_count": 4,
     "metadata": {},
     "output_type": "execute_result"
    }
   ],
   "source": [
    "type(arreglo)"
   ]
  },
  {
   "cell_type": "code",
   "execution_count": 5,
   "id": "670ed78a-0c0e-4e11-8f31-6a53214749b3",
   "metadata": {
    "tags": []
   },
   "outputs": [
    {
     "name": "stdout",
     "output_type": "stream",
     "text": [
      "1\n"
     ]
    }
   ],
   "source": [
    "print(arreglo[0])"
   ]
  },
  {
   "cell_type": "markdown",
   "id": "515abe3f-17ff-4b2a-8f98-46bfe81c321a",
   "metadata": {},
   "source": [
    "**Cantidad de dimensiones que tiene un arreglo**"
   ]
  },
  {
   "cell_type": "code",
   "execution_count": 6,
   "id": "8956bffc-b277-4c63-b2a9-0e9188a24710",
   "metadata": {
    "tags": []
   },
   "outputs": [
    {
     "name": "stdout",
     "output_type": "stream",
     "text": [
      "1\n"
     ]
    }
   ],
   "source": [
    "print(arreglo.ndim)"
   ]
  },
  {
   "cell_type": "markdown",
   "id": "742dfbe1-23d6-4cee-8979-1ccaa3ee65d9",
   "metadata": {},
   "source": [
    "**Tamaño del arreglo**"
   ]
  },
  {
   "cell_type": "code",
   "execution_count": 7,
   "id": "13bc5046-def1-492f-94ca-baed19ea95d0",
   "metadata": {
    "tags": []
   },
   "outputs": [
    {
     "name": "stdout",
     "output_type": "stream",
     "text": [
      "5\n"
     ]
    }
   ],
   "source": [
    "print(arreglo.size)"
   ]
  },
  {
   "cell_type": "markdown",
   "id": "61b0a43d-5be6-4d67-b50c-9dba02165d20",
   "metadata": {},
   "source": [
    "## Operaciones"
   ]
  },
  {
   "cell_type": "code",
   "execution_count": 9,
   "id": "cb39aa36-c514-4040-86a3-9dd9014fef86",
   "metadata": {
    "tags": []
   },
   "outputs": [],
   "source": [
    "u =[1,0]\n",
    "v =[0,1]"
   ]
  },
  {
   "cell_type": "code",
   "execution_count": 12,
   "id": "322fdf59-ac9e-477d-91b1-0e27f0a5d3f4",
   "metadata": {
    "tags": []
   },
   "outputs": [],
   "source": [
    "z = []"
   ]
  },
  {
   "cell_type": "code",
   "execution_count": 13,
   "id": "6ad3df05-3e19-428b-a372-64c15432dda7",
   "metadata": {
    "tags": []
   },
   "outputs": [],
   "source": [
    "for n,m in zip(u,v):\n",
    "    z.append(n+m)"
   ]
  },
  {
   "cell_type": "code",
   "execution_count": 14,
   "id": "6b419ca5-d4cd-425e-9a59-f17642f74283",
   "metadata": {
    "tags": []
   },
   "outputs": [
    {
     "data": {
      "text/plain": [
       "0"
      ]
     },
     "execution_count": 14,
     "metadata": {},
     "output_type": "execute_result"
    }
   ],
   "source": [
    "a=np.array([0,1])\n",
    "\n",
    "b=np.array([1,0])\n",
    "\n",
    "np.dot(a,b)\n",
    "\n",
    "\n",
    "\n"
   ]
  },
  {
   "cell_type": "code",
   "execution_count": 15,
   "id": "3d0b7810-ff49-4369-b6b4-be12a47e2426",
   "metadata": {
    "tags": []
   },
   "outputs": [
    {
     "data": {
      "text/plain": [
       "array([11, 11, 11, 11, 11])"
      ]
     },
     "execution_count": 15,
     "metadata": {},
     "output_type": "execute_result"
    }
   ],
   "source": [
    "a=np.array([1,1,1,1,1])\n",
    "\n",
    "a+10"
   ]
  },
  {
   "cell_type": "code",
   "execution_count": null,
   "id": "29c52f1e-5b58-4f9e-9b0b-e8bf800442b4",
   "metadata": {},
   "outputs": [],
   "source": []
  }
 ],
 "metadata": {
  "kernelspec": {
   "display_name": "Python 3 (ipykernel)",
   "language": "python",
   "name": "python3"
  },
  "language_info": {
   "codemirror_mode": {
    "name": "ipython",
    "version": 3
   },
   "file_extension": ".py",
   "mimetype": "text/x-python",
   "name": "python",
   "nbconvert_exporter": "python",
   "pygments_lexer": "ipython3",
   "version": "3.11.5"
  }
 },
 "nbformat": 4,
 "nbformat_minor": 5
}
