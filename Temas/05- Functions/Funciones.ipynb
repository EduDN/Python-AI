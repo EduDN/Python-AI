{
  "nbformat": 4,
  "nbformat_minor": 0,
  "metadata": {
    "colab": {
      "provenance": []
    },
    "kernelspec": {
      "name": "python3",
      "display_name": "Python 3"
    },
    "language_info": {
      "name": "python"
    }
  },
  "cells": [
    {
      "cell_type": "markdown",
      "source": [
        "# Funciones\n",
        "\n",
        "\n",
        "Bloques de código que se pueden ejecutar multiples veces y nos ayudan a reutilizar código."
      ],
      "metadata": {
        "id": "jYro90E7dNTI"
      }
    },
    {
      "cell_type": "code",
      "execution_count": null,
      "metadata": {
        "id": "qZY8BO8PdCO7"
      },
      "outputs": [],
      "source": [
        "def my_print():\n",
        "    print('Esto es una función')"
      ]
    },
    {
      "cell_type": "code",
      "source": [
        "my_print()"
      ],
      "metadata": {
        "colab": {
          "base_uri": "https://localhost:8080/"
        },
        "id": "n1kwXzOQeZKi",
        "outputId": "be2b5beb-951a-47bd-d4ca-86752ddc0c23"
      },
      "execution_count": null,
      "outputs": [
        {
          "output_type": "stream",
          "name": "stdout",
          "text": [
            "Esto es una función\n"
          ]
        }
      ]
    },
    {
      "cell_type": "code",
      "source": [
        "def texto(oracion):\n",
        "    print(oracion * 2)"
      ],
      "metadata": {
        "id": "4b8HcNtHfZdp"
      },
      "execution_count": null,
      "outputs": []
    },
    {
      "cell_type": "code",
      "source": [
        "texto('hola mundo')"
      ],
      "metadata": {
        "colab": {
          "base_uri": "https://localhost:8080/"
        },
        "id": "2zflxOt-fhLl",
        "outputId": "ab5026e6-6bb9-41b9-d266-48b0d4d5d5f1"
      },
      "execution_count": null,
      "outputs": [
        {
          "output_type": "stream",
          "name": "stdout",
          "text": [
            "hola mundohola mundo\n"
          ]
        }
      ]
    },
    {
      "cell_type": "code",
      "source": [
        "def suma(x,y):\n",
        "    print(x+y)"
      ],
      "metadata": {
        "id": "LAvc0EbIedQF"
      },
      "execution_count": null,
      "outputs": []
    },
    {
      "cell_type": "code",
      "source": [
        "suma(4,5)"
      ],
      "metadata": {
        "colab": {
          "base_uri": "https://localhost:8080/"
        },
        "id": "oj8RQM6qesSG",
        "outputId": "e9d304ec-b552-4ec9-d811-1ef99b3223dd"
      },
      "execution_count": null,
      "outputs": [
        {
          "output_type": "stream",
          "name": "stdout",
          "text": [
            "9\n"
          ]
        }
      ]
    },
    {
      "cell_type": "markdown",
      "source": [
        "### Return"
      ],
      "metadata": {
        "id": "25wzjeCXha8T"
      }
    },
    {
      "cell_type": "markdown",
      "source": [
        "El return nos servirá para devolver un valor especificado dentro de la función."
      ],
      "metadata": {
        "id": "3Bax7mcym-OO"
      }
    },
    {
      "cell_type": "code",
      "source": [
        "def multi(x,y):\n",
        "    return x * y\n",
        "\n",
        "multi(10,2)"
      ],
      "metadata": {
        "colab": {
          "base_uri": "https://localhost:8080/"
        },
        "id": "Ln0J13srhc6T",
        "outputId": "8c6bad5b-bf64-4b31-80fe-4a6eb9d6b362"
      },
      "execution_count": null,
      "outputs": [
        {
          "output_type": "execute_result",
          "data": {
            "text/plain": [
              "20"
            ]
          },
          "metadata": {},
          "execution_count": 17
        }
      ]
    },
    {
      "cell_type": "code",
      "source": [
        "def ciclo_suma(inicio,fin):\n",
        "    sum = 0\n",
        "    for x in range(inicio,fin):\n",
        "        sum += x\n",
        "    return sum"
      ],
      "metadata": {
        "id": "ZBjECPltifH8"
      },
      "execution_count": null,
      "outputs": []
    },
    {
      "cell_type": "code",
      "source": [
        "ciclo_suma(1,10)"
      ],
      "metadata": {
        "colab": {
          "base_uri": "https://localhost:8080/"
        },
        "id": "wtGNHMUoi0hc",
        "outputId": "1c8c8edd-8c3e-4e03-b613-4893ddc6cda8"
      },
      "execution_count": null,
      "outputs": [
        {
          "output_type": "execute_result",
          "data": {
            "text/plain": [
              "45"
            ]
          },
          "metadata": {},
          "execution_count": 29
        }
      ]
    },
    {
      "cell_type": "code",
      "source": [
        "ciclo_suma(20,30)"
      ],
      "metadata": {
        "colab": {
          "base_uri": "https://localhost:8080/"
        },
        "id": "ipvg8BvqmaQw",
        "outputId": "f49b20d1-e9c0-4760-b8af-f44445fd424e"
      },
      "execution_count": null,
      "outputs": [
        {
          "output_type": "execute_result",
          "data": {
            "text/plain": [
              "245"
            ]
          },
          "metadata": {},
          "execution_count": 30
        }
      ]
    },
    {
      "cell_type": "markdown",
      "source": [
        "Podemos definir los valores de los argumentos de la función desde un principio."
      ],
      "metadata": {
        "id": "QOhCzQBNNOjp"
      }
    },
    {
      "cell_type": "code",
      "source": [
        "def area_rectangulo(base=20,altura=0):\n",
        "    return base * altura"
      ],
      "metadata": {
        "id": "Fdt-unmXMwqj"
      },
      "execution_count": null,
      "outputs": []
    },
    {
      "cell_type": "code",
      "source": [
        "area_rectangulo(altura=20)"
      ],
      "metadata": {
        "colab": {
          "base_uri": "https://localhost:8080/"
        },
        "id": "ulDwrhP1NHE3",
        "outputId": "2ff5fdce-6b63-40fd-b5ef-f54f6f8b426f"
      },
      "execution_count": null,
      "outputs": [
        {
          "output_type": "execute_result",
          "data": {
            "text/plain": [
              "400"
            ]
          },
          "metadata": {},
          "execution_count": 2
        }
      ]
    },
    {
      "cell_type": "markdown",
      "source": [
        "### SCOPE"
      ],
      "metadata": {
        "id": "S8WLuCVJRntW"
      }
    },
    {
      "cell_type": "markdown",
      "source": [
        "Alcance de las variables que pueden tener dentro del programa"
      ],
      "metadata": {
        "id": "IpCPm_ajRp0k"
      }
    },
    {
      "cell_type": "markdown",
      "source": [
        "Se ven las limitaciones que tienen las variables externas dentro de las funciones y otros métodos."
      ],
      "metadata": {
        "id": "CIc_PQxcKCdV"
      }
    },
    {
      "cell_type": "code",
      "source": [
        "gravity = 9.81\n",
        "masa = 30\n",
        "\n",
        "def calculate(gravity):\n",
        "    masa = 100\n",
        "    resultado = gravity * masa\n",
        "    return resultado"
      ],
      "metadata": {
        "id": "opVHTNdSRy33"
      },
      "execution_count": null,
      "outputs": []
    },
    {
      "cell_type": "code",
      "source": [
        "calculate(20)"
      ],
      "metadata": {
        "colab": {
          "base_uri": "https://localhost:8080/"
        },
        "id": "Tc-B--BFR5Vm",
        "outputId": "7b33057b-6bea-4593-f561-82726f77e7f6"
      },
      "execution_count": null,
      "outputs": [
        {
          "output_type": "execute_result",
          "data": {
            "text/plain": [
              "2000"
            ]
          },
          "metadata": {},
          "execution_count": 10
        }
      ]
    }
  ]
}