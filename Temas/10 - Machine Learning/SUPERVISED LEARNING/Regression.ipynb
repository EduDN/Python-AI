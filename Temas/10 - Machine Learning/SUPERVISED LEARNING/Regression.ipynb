{
 "cells": [
  {
   "cell_type": "markdown",
   "id": "549dfe1e-0bca-4054-a300-f27f82ab9564",
   "metadata": {},
   "source": [
    "# Regression"
   ]
  },
  {
   "cell_type": "markdown",
   "id": "b6849f4e-2d2b-4075-92c3-839d61038847",
   "metadata": {},
   "source": [
    "Es usada para calcular o predecir un valor continuo."
   ]
  },
  {
   "cell_type": "markdown",
   "id": "e3dfd37a-0e4f-4aa5-b713-72d0d4813628",
   "metadata": {},
   "source": [
    "Contamos con **varibles dependientes (y)** y **variables independientes (x)**"
   ]
  },
  {
   "cell_type": "markdown",
   "id": "f49763dc-3cc3-45fb-868b-06fa4d1c7dd6",
   "metadata": {},
   "source": [
    "### Variable independiente"
   ]
  },
  {
   "cell_type": "markdown",
   "id": "44381b68-ab60-42b6-bf63-04570956709e",
   "metadata": {},
   "source": [
    "Caracterísiticas para predecir o determinar el valor de la variable dependiente, nuestro input."
   ]
  },
  {
   "cell_type": "markdown",
   "id": "033b5018-561a-4993-8d7c-8938b2dd5df4",
   "metadata": {},
   "source": [
    "### Variable dependiente"
   ]
  },
  {
   "cell_type": "markdown",
   "id": "c96c4624-8780-46a5-ac2c-36c77188b156",
   "metadata": {},
   "source": [
    "Será el resultado que tendremos, es la estimación o la predicción, nuestro output."
   ]
  },
  {
   "cell_type": "markdown",
   "id": "27bf873c-4564-47ff-9a80-fa91e3b54309",
   "metadata": {},
   "source": [
    "## Tipos de Regresión"
   ]
  },
  {
   "cell_type": "markdown",
   "id": "525cc854-41e1-48ee-940d-98f398ff28c0",
   "metadata": {},
   "source": [
    "### Simple Regression"
   ]
  },
  {
   "cell_type": "markdown",
   "id": "72cd3a10-bcf1-4f14-8131-89a7d6b91790",
   "metadata": {},
   "source": [
    "La regresión simple es cuando se utiliza una variable independiente para estimar una variable dependiente."
   ]
  },
  {
   "cell_type": "markdown",
   "id": "8091eaf9-dbfa-4323-85a8-a25c48c760c5",
   "metadata": {},
   "source": [
    "* Simple Linear Regression\n",
    "* Simple non-linear Regression"
   ]
  },
  {
   "cell_type": "markdown",
   "id": "49971a43-d341-43f8-8aea-1312f68bd520",
   "metadata": {},
   "source": [
    "### Multiple Regression"
   ]
  },
  {
   "cell_type": "markdown",
   "id": "b8aad8a8-8625-4f84-9f89-5cadc515f8fc",
   "metadata": {},
   "source": [
    "Cuando está presente más de una variable independiente, el proceso se llama lineal múltiple."
   ]
  },
  {
   "cell_type": "markdown",
   "id": "754456b3-980f-4be1-9b4d-602d33ca0456",
   "metadata": {},
   "source": [
    "* Multiple Linear Regression\n",
    "* Multiple non-linear Regression"
   ]
  },
  {
   "cell_type": "code",
   "execution_count": null,
   "id": "21aa5d63-88e4-464f-a49a-074a54813126",
   "metadata": {},
   "outputs": [],
   "source": []
  }
 ],
 "metadata": {
  "kernelspec": {
   "display_name": "Python 3 (ipykernel)",
   "language": "python",
   "name": "python3"
  },
  "language_info": {
   "codemirror_mode": {
    "name": "ipython",
    "version": 3
   },
   "file_extension": ".py",
   "mimetype": "text/x-python",
   "name": "python",
   "nbconvert_exporter": "python",
   "pygments_lexer": "ipython3",
   "version": "3.11.5"
  }
 },
 "nbformat": 4,
 "nbformat_minor": 5
}
