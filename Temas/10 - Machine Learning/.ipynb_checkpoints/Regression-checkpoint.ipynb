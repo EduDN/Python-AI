{
 "cells": [
  {
   "cell_type": "markdown",
   "id": "549dfe1e-0bca-4054-a300-f27f82ab9564",
   "metadata": {},
   "source": [
    "# Regression"
   ]
  },
  {
   "cell_type": "markdown",
   "id": "b6849f4e-2d2b-4075-92c3-839d61038847",
   "metadata": {},
   "source": [
    "Es usada para calcular o predecir un valor continuo."
   ]
  },
  {
   "cell_type": "markdown",
   "id": "e3dfd37a-0e4f-4aa5-b713-72d0d4813628",
   "metadata": {},
   "source": [
    "Contamos con **varibles dependientes (y)** y **variables independientes (x)**"
   ]
  },
  {
   "cell_type": "markdown",
   "id": "f49763dc-3cc3-45fb-868b-06fa4d1c7dd6",
   "metadata": {},
   "source": [
    "### Variable independiente"
   ]
  },
  {
   "cell_type": "markdown",
   "id": "44381b68-ab60-42b6-bf63-04570956709e",
   "metadata": {},
   "source": [
    "Caracterísiticas para predecir o determinar el valor de la variable dependiente, nuestro input."
   ]
  },
  {
   "cell_type": "markdown",
   "id": "033b5018-561a-4993-8d7c-8938b2dd5df4",
   "metadata": {},
   "source": [
    "### Variable dependiente"
   ]
  },
  {
   "cell_type": "markdown",
   "id": "c96c4624-8780-46a5-ac2c-36c77188b156",
   "metadata": {},
   "source": [
    "Será el resultado que tendremos, es la estimación o la predicción, nuestro output."
   ]
  }
 ],
 "metadata": {
  "kernelspec": {
   "display_name": "Python 3 (ipykernel)",
   "language": "python",
   "name": "python3"
  },
  "language_info": {
   "codemirror_mode": {
    "name": "ipython",
    "version": 3
   },
   "file_extension": ".py",
   "mimetype": "text/x-python",
   "name": "python",
   "nbconvert_exporter": "python",
   "pygments_lexer": "ipython3",
   "version": "3.11.5"
  }
 },
 "nbformat": 4,
 "nbformat_minor": 5
}
