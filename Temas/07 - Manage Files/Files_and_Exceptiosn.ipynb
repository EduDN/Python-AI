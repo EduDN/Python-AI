{
 "cells": [
  {
   "cell_type": "markdown",
   "id": "86ae8f84-5d04-469f-9b69-f6e8b39efe7a",
   "metadata": {},
   "source": [
    "Reading content file"
   ]
  },
  {
   "cell_type": "code",
   "execution_count": 44,
   "id": "f79244ec-f18b-424f-8fc1-37385fc3fca5",
   "metadata": {
    "tags": []
   },
   "outputs": [],
   "source": [
    "from pathlib import Path"
   ]
  },
  {
   "cell_type": "code",
   "execution_count": 45,
   "id": "ac56cd9e-36b7-406f-9c01-096b5fa9b936",
   "metadata": {
    "tags": []
   },
   "outputs": [],
   "source": [
    "path = Path('pi_digits.txt')"
   ]
  },
  {
   "cell_type": "code",
   "execution_count": 46,
   "id": "58653728-52b7-4cc9-8e52-ef7da40565e7",
   "metadata": {
    "tags": []
   },
   "outputs": [
    {
     "name": "stdout",
     "output_type": "stream",
     "text": [
      "3.14159265359\n"
     ]
    }
   ],
   "source": [
    "contents = path.read_text()\n",
    "print(contents)"
   ]
  },
  {
   "cell_type": "code",
   "execution_count": 47,
   "id": "6f2e524d-a0a4-4ffa-9601-c66dd52437e5",
   "metadata": {
    "tags": []
   },
   "outputs": [
    {
     "name": "stdout",
     "output_type": "stream",
     "text": [
      "3.14159265359\n"
     ]
    }
   ],
   "source": [
    "with open('pi_digits.txt','r') as pi:\n",
    "    for i in pi:\n",
    "        print(i)"
   ]
  },
  {
   "cell_type": "markdown",
   "id": "d96c6282-a823-4f39-8f54-b49d8642180e",
   "metadata": {},
   "source": [
    "Write(w), Read(r) and Append(a) a file"
   ]
  },
  {
   "cell_type": "markdown",
   "id": "a5cf4072-0678-405f-8e39-3955dbb495eb",
   "metadata": {},
   "source": [
    "Write"
   ]
  },
  {
   "cell_type": "code",
   "execution_count": 52,
   "id": "2efbc493-183c-4b63-b71f-22ff805e219c",
   "metadata": {
    "tags": []
   },
   "outputs": [],
   "source": [
    "with open('pi_digits.txt',\"w\") as writefile:\n",
    "    writefile.write(\"This is line A\\n\")\n",
    "    writefile.write(\"This is line B\\n\")"
   ]
  },
  {
   "cell_type": "markdown",
   "id": "087d0051-84dd-4358-8cb2-ac0573cf515f",
   "metadata": {},
   "source": [
    "Read"
   ]
  },
  {
   "cell_type": "code",
   "execution_count": 49,
   "id": "f025a929-8aa4-4f90-8b17-9f04067c3f2e",
   "metadata": {
    "tags": []
   },
   "outputs": [
    {
     "name": "stdout",
     "output_type": "stream",
     "text": [
      "This is line A\n",
      "\n",
      "This is line B\n",
      "\n"
     ]
    }
   ],
   "source": [
    "with open('pi_digits.txt','r') as writefile:\n",
    "    for i in writefile:\n",
    "        print(i)"
   ]
  },
  {
   "cell_type": "markdown",
   "id": "fea04f68-df2e-49d8-90e6-f7f26f548203",
   "metadata": {},
   "source": [
    "Append"
   ]
  },
  {
   "cell_type": "code",
   "execution_count": 50,
   "id": "b4800bde-bbbf-4793-b4a6-f254a0cbeb0f",
   "metadata": {
    "tags": []
   },
   "outputs": [],
   "source": [
    "with open('pi_digits.txt','a') as file1:\n",
    "    file1.write(\"This is line C\\n\")"
   ]
  },
  {
   "cell_type": "code",
   "execution_count": 51,
   "id": "f9b9f317-0faf-48a4-aca1-14a7e5e91787",
   "metadata": {
    "tags": []
   },
   "outputs": [
    {
     "name": "stdout",
     "output_type": "stream",
     "text": [
      "This is line A\n",
      "\n",
      "This is line B\n",
      "\n",
      "This is line C\n",
      "\n"
     ]
    }
   ],
   "source": [
    "with open('pi_digits.txt','r') as file1:\n",
    "    for i in file1:\n",
    "        print(i)"
   ]
  }
 ],
 "metadata": {
  "kernelspec": {
   "display_name": "Python 3 (ipykernel)",
   "language": "python",
   "name": "python3"
  },
  "language_info": {
   "codemirror_mode": {
    "name": "ipython",
    "version": 3
   },
   "file_extension": ".py",
   "mimetype": "text/x-python",
   "name": "python",
   "nbconvert_exporter": "python",
   "pygments_lexer": "ipython3",
   "version": "3.11.5"
  }
 },
 "nbformat": 4,
 "nbformat_minor": 5
}
