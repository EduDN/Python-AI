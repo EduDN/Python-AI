{
  "nbformat": 4,
  "nbformat_minor": 0,
  "metadata": {
    "colab": {
      "provenance": []
    },
    "kernelspec": {
      "name": "python3",
      "display_name": "Python 3"
    },
    "language_info": {
      "name": "python"
    }
  },
  "cells": [
    {
      "cell_type": "markdown",
      "source": [
        "# Clases"
      ],
      "metadata": {
        "id": "iWHvZVN76pJ2"
      }
    },
    {
      "cell_type": "markdown",
      "source": [
        "Una clase va a contar con:\n",
        "\n",
        "* Atributos - características del objeto.\n",
        "\n",
        "* Métodos - acciones que puede realizar."
      ],
      "metadata": {
        "id": "TupCM2ak8AcM"
      }
    },
    {
      "cell_type": "markdown",
      "source": [
        "\n",
        "\n",
        "---\n",
        "\n"
      ],
      "metadata": {
        "id": "oB_sayqS80wF"
      }
    },
    {
      "cell_type": "code",
      "source": [
        "class Dog:\n",
        "    # Constructor\n",
        "    def __init__(self, name, age):\n",
        "        # ATRIBUTOS\n",
        "        self.age = age\n",
        "        self.name = name\n",
        "\n",
        "    # MÉTODOS\n",
        "\n",
        "    # acciones a realizar por la clase\n",
        "    # habilidades\n",
        "\n",
        "    # sentarse\n",
        "    def sit(self):\n",
        "        # simulamos que el perro responde al comando\n",
        "        print(f'{self.name} is sitting')\n",
        "\n",
        "    # rodar\n",
        "    def roll_over(self):\n",
        "        print(f'{self.name} is rolling over')"
      ],
      "metadata": {
        "id": "0Qk_Yh1-HoCJ"
      },
      "execution_count": 50,
      "outputs": []
    },
    {
      "cell_type": "markdown",
      "source": [
        "### Acceder atributos"
      ],
      "metadata": {
        "id": "WH8ayGILSIQY"
      }
    },
    {
      "cell_type": "code",
      "source": [
        "my_dog.name"
      ],
      "metadata": {
        "colab": {
          "base_uri": "https://localhost:8080/",
          "height": 35
        },
        "id": "HEFhzmEbSThN",
        "outputId": "ddd7303f-facb-4d60-b082-0ed4026c7677"
      },
      "execution_count": 29,
      "outputs": [
        {
          "output_type": "execute_result",
          "data": {
            "text/plain": [
              "'Tobbie'"
            ],
            "application/vnd.google.colaboratory.intrinsic+json": {
              "type": "string"
            }
          },
          "metadata": {},
          "execution_count": 29
        }
      ]
    },
    {
      "cell_type": "code",
      "source": [
        "my_dog.age"
      ],
      "metadata": {
        "colab": {
          "base_uri": "https://localhost:8080/"
        },
        "id": "5SqZ6docSUsI",
        "outputId": "e40d88c6-de57-4c75-b4d0-b7eb0a69c005"
      },
      "execution_count": 30,
      "outputs": [
        {
          "output_type": "execute_result",
          "data": {
            "text/plain": [
              "6"
            ]
          },
          "metadata": {},
          "execution_count": 30
        }
      ]
    },
    {
      "cell_type": "markdown",
      "source": [
        "### Llamando atributos"
      ],
      "metadata": {
        "id": "CAmuB_44SOjI"
      }
    },
    {
      "cell_type": "code",
      "source": [
        "my_dog.sit()"
      ],
      "metadata": {
        "colab": {
          "base_uri": "https://localhost:8080/"
        },
        "id": "aWiHtv35SeTE",
        "outputId": "c190c0f3-2529-4ede-fd89-e6af7409f866"
      },
      "execution_count": 31,
      "outputs": [
        {
          "output_type": "stream",
          "name": "stdout",
          "text": [
            "Tobbie is sitting\n"
          ]
        }
      ]
    },
    {
      "cell_type": "code",
      "source": [
        "my_dog.roll_over()"
      ],
      "metadata": {
        "colab": {
          "base_uri": "https://localhost:8080/"
        },
        "id": "jdMO7qKNSjBR",
        "outputId": "ca8a369d-65c5-4f00-c4bd-bcce9b77a25a"
      },
      "execution_count": 32,
      "outputs": [
        {
          "output_type": "stream",
          "name": "stdout",
          "text": [
            "Tobbie is rolling over\n"
          ]
        }
      ]
    },
    {
      "cell_type": "markdown",
      "source": [
        "\n",
        "\n",
        "---\n",
        "\n"
      ],
      "metadata": {
        "id": "XMobxKhgT3PR"
      }
    },
    {
      "cell_type": "markdown",
      "source": [
        "Instancia"
      ],
      "metadata": {
        "id": "R9F9X6k4N3_H"
      }
    },
    {
      "cell_type": "code",
      "source": [
        "# Crear una instancia de la clase Dog\n",
        "my_dog = Dog('Tobbie', 6)\n",
        "print(f'The name of my dog is {my_dog.name} and his age is {my_dog.age}')"
      ],
      "metadata": {
        "colab": {
          "base_uri": "https://localhost:8080/"
        },
        "id": "X23FIW6MN3Lo",
        "outputId": "9052c758-7e85-4fb1-d49c-666b3f612775"
      },
      "execution_count": 33,
      "outputs": [
        {
          "output_type": "stream",
          "name": "stdout",
          "text": [
            "The name of my dog is Tobbie and his age is 6\n"
          ]
        }
      ]
    },
    {
      "cell_type": "markdown",
      "source": [
        "Creando multiples instancias."
      ],
      "metadata": {
        "id": "FO89cc5qT6fl"
      }
    },
    {
      "cell_type": "code",
      "source": [
        "your_dog = Dog('Cookies', 15)\n",
        "print(f'The name of your dog is {your_dog.name}, and his age is {your_dog.age}')"
      ],
      "metadata": {
        "colab": {
          "base_uri": "https://localhost:8080/"
        },
        "id": "Eat4O7-6T-sH",
        "outputId": "adcf8096-e77b-4b30-d463-1ec41bffa9c4"
      },
      "execution_count": 34,
      "outputs": [
        {
          "output_type": "stream",
          "name": "stdout",
          "text": [
            "The name of your dog is Cookies, and his age is 15\n"
          ]
        }
      ]
    },
    {
      "cell_type": "markdown",
      "source": [
        "## Ejercicios"
      ],
      "metadata": {
        "id": "Wn77_a46VVUg"
      }
    },
    {
      "cell_type": "markdown",
      "source": [
        "### 1: Restaurante"
      ],
      "metadata": {
        "id": "zCFPw40saZm0"
      }
    },
    {
      "cell_type": "markdown",
      "source": [
        "\n",
        "\n",
        "---\n",
        "\n"
      ],
      "metadata": {
        "id": "Ute1NL5Za3jw"
      }
    },
    {
      "cell_type": "markdown",
      "source": [
        "Haz una clase **restaurante**\n",
        "\n",
        "el método debe almacenar dos atributos:   ***name and cuisine_type(tipo de cocina)***\n",
        "\n",
        "acciones :\n",
        "\n",
        "* descripe_restaurant() - manda nombre y tipo de cocina\n",
        "* open_restaurant() - mensaje indicando que abrió el restaurante con su respectico nombre\n",
        "\n",
        "\n",
        "instancias ⁉\n",
        "\n",
        "define tu instancia como **restaurante**"
      ],
      "metadata": {
        "id": "JvpX_AZKVbVY"
      }
    },
    {
      "cell_type": "markdown",
      "source": [
        "## Respuestas"
      ],
      "metadata": {
        "id": "CVbqK0LXVX9C"
      }
    },
    {
      "cell_type": "markdown",
      "source": [
        "### 1: Restaurante"
      ],
      "metadata": {
        "id": "IsQLicgAV3ar"
      }
    },
    {
      "cell_type": "code",
      "source": [
        "class Restaurant():\n",
        "    def __init__(self,name,cuisine_type):\n",
        "        self.name = name\n",
        "        self.cuisine_type = cuisine_type\n",
        "\n",
        "    def descripe_restaurant(self):\n",
        "        print(f'The name of the restaurant is {self.name} and have a kitchen of type {self.cuisine_type}')\n",
        "\n",
        "    def open_resturante(self):\n",
        "        print(f'The restaurante {self.name} is open')"
      ],
      "metadata": {
        "id": "D6YSxmP0VapV"
      },
      "execution_count": 35,
      "outputs": []
    },
    {
      "cell_type": "code",
      "source": [
        "restaurante = Restaurant('VIPS', 'A la carta')"
      ],
      "metadata": {
        "id": "qpGtVkTmYry1"
      },
      "execution_count": 38,
      "outputs": []
    },
    {
      "cell_type": "markdown",
      "source": [
        "Instancias"
      ],
      "metadata": {
        "id": "ktkyNoKoZI9_"
      }
    },
    {
      "cell_type": "code",
      "source": [
        "restaurante.name"
      ],
      "metadata": {
        "colab": {
          "base_uri": "https://localhost:8080/",
          "height": 35
        },
        "id": "ua-WXCNVZD6M",
        "outputId": "22d4c0d7-52fd-4b52-83c6-ae062171b2c7"
      },
      "execution_count": 39,
      "outputs": [
        {
          "output_type": "execute_result",
          "data": {
            "text/plain": [
              "'VIPS'"
            ],
            "application/vnd.google.colaboratory.intrinsic+json": {
              "type": "string"
            }
          },
          "metadata": {},
          "execution_count": 39
        }
      ]
    },
    {
      "cell_type": "code",
      "source": [
        "restaurante.cuisine_type"
      ],
      "metadata": {
        "colab": {
          "base_uri": "https://localhost:8080/",
          "height": 35
        },
        "id": "qcTxTx_8ZGXl",
        "outputId": "8733b590-2490-449c-ac74-39446c86686c"
      },
      "execution_count": 40,
      "outputs": [
        {
          "output_type": "execute_result",
          "data": {
            "text/plain": [
              "'A la carta'"
            ],
            "application/vnd.google.colaboratory.intrinsic+json": {
              "type": "string"
            }
          },
          "metadata": {},
          "execution_count": 40
        }
      ]
    },
    {
      "cell_type": "markdown",
      "source": [
        "Acciones"
      ],
      "metadata": {
        "id": "XIDLL8r8ZMwI"
      }
    },
    {
      "cell_type": "code",
      "source": [
        "restaurante.descripe_restaurant()"
      ],
      "metadata": {
        "colab": {
          "base_uri": "https://localhost:8080/"
        },
        "id": "B6lKT77UZOLh",
        "outputId": "8762d96b-8720-45f0-f6d4-eded89fde1b5"
      },
      "execution_count": 41,
      "outputs": [
        {
          "output_type": "stream",
          "name": "stdout",
          "text": [
            "The name of the restaurant is VIPS and have a kitchen of type A la carta\n"
          ]
        }
      ]
    },
    {
      "cell_type": "code",
      "source": [
        "restaurante.open_resturante()"
      ],
      "metadata": {
        "colab": {
          "base_uri": "https://localhost:8080/"
        },
        "id": "UUpoV_E0ZXg8",
        "outputId": "65099b6b-85fa-40b1-f503-c1f69331441b"
      },
      "execution_count": 42,
      "outputs": [
        {
          "output_type": "stream",
          "name": "stdout",
          "text": [
            "The restaurante VIPS is open\n"
          ]
        }
      ]
    },
    {
      "cell_type": "markdown",
      "source": [
        "Impresión de instancias."
      ],
      "metadata": {
        "id": "k_8U-LiwZpwt"
      }
    },
    {
      "cell_type": "code",
      "source": [
        "print(f'El nombre del restaurante al que quieres ir es {restaurante.name} y tiene una cocina tip {restaurante.cuisine_type}')"
      ],
      "metadata": {
        "colab": {
          "base_uri": "https://localhost:8080/"
        },
        "id": "_sC8xdK9ZojF",
        "outputId": "d58ee681-f83b-4f0e-ab84-e50964bb0bdd"
      },
      "execution_count": 43,
      "outputs": [
        {
          "output_type": "stream",
          "name": "stdout",
          "text": [
            "El nombre del restaurante al que quieres ir es VIPS y tiene una cocina tip A la carta\n"
          ]
        }
      ]
    },
    {
      "cell_type": "markdown",
      "source": [
        "### 2: Nombre"
      ],
      "metadata": {
        "id": "r4-9C4DHcZkB"
      }
    },
    {
      "cell_type": "code",
      "source": [
        "class Alumno():\n",
        "    def __init__(self,nombre,edad, carrera, promedio, anio):\n",
        "        self.nombre= nombre\n",
        "        self.edad = edad\n",
        "        self.carrera = carrera\n",
        "        self.promedio = promedio\n",
        "        self.anio= anio\n",
        "\n",
        "    def kardex(self):\n",
        "        if self.anio <= 3:\n",
        "            print(f'Tu carrera de {self.carrera} debe de durar más')\n",
        "        else:\n",
        "            print(f'Tu carrera de {self.carrera} esta acorde al tiempo necesario')\n",
        "\n",
        "    def descripcion(self):\n",
        "        print(f'El estudiante {self.nombre}, estudia en la carrera {self.carrera} y tiene un promedio de {self.promedio}')"
      ],
      "metadata": {
        "id": "wa0hAtAmcbTE"
      },
      "execution_count": 44,
      "outputs": []
    },
    {
      "cell_type": "markdown",
      "source": [
        "Instancias"
      ],
      "metadata": {
        "id": "1geiepCfd-Y2"
      }
    },
    {
      "cell_type": "code",
      "source": [
        "datos = Alumno('Edu', 23, 'Ing. Informática', 8.50, 4)"
      ],
      "metadata": {
        "id": "ilH1pn2fd_00"
      },
      "execution_count": 45,
      "outputs": []
    },
    {
      "cell_type": "code",
      "source": [
        "print(f'El nombre del alumno es {datos.nombre}')"
      ],
      "metadata": {
        "colab": {
          "base_uri": "https://localhost:8080/"
        },
        "id": "u4Pi-V6SeLFR",
        "outputId": "6ca2854c-1321-433a-ab86-560e0c104a42"
      },
      "execution_count": 49,
      "outputs": [
        {
          "output_type": "stream",
          "name": "stdout",
          "text": [
            "El nombre del alumno es Edu\n"
          ]
        }
      ]
    }
  ]
}