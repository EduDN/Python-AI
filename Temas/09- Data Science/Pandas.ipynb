{
  "nbformat": 4,
  "nbformat_minor": 0,
  "metadata": {
    "colab": {
      "provenance": []
    },
    "kernelspec": {
      "name": "python3",
      "display_name": "Python 3"
    },
    "language_info": {
      "name": "python"
    }
  },
  "cells": [
    {
      "cell_type": "markdown",
      "source": [
        "# Pandas"
      ],
      "metadata": {
        "id": "hcWLwjR0iNSs"
      }
    },
    {
      "cell_type": "markdown",
      "source": [
        "Ofrece estructuras de datos y operaciones para manipular tablas numéricas y series temporales,"
      ],
      "metadata": {
        "id": "riq8oYuaiBeF"
      }
    },
    {
      "cell_type": "code",
      "execution_count": 1,
      "metadata": {
        "id": "VFv7WKygTq_Y"
      },
      "outputs": [],
      "source": [
        "import pandas as pd"
      ]
    },
    {
      "cell_type": "code",
      "source": [
        "dataset = pd.read_csv('name_of_file')"
      ],
      "metadata": {
        "id": "ahOrj9_vT5QM"
      },
      "execution_count": null,
      "outputs": []
    },
    {
      "cell_type": "markdown",
      "source": [
        "Imprime las primeras 5 rows del dataframe."
      ],
      "metadata": {
        "id": "MWoMmYlThRze"
      }
    },
    {
      "cell_type": "code",
      "source": [
        "dataset.head()"
      ],
      "metadata": {
        "id": "-X-bycVkUojZ"
      },
      "execution_count": null,
      "outputs": []
    },
    {
      "cell_type": "markdown",
      "source": [
        "Genera un frame de un diccionario"
      ],
      "metadata": {
        "id": "X82RU4l7U2Hd"
      }
    },
    {
      "cell_type": "code",
      "source": [
        "songs = { 'Album' : ['Carmesí','Syre','Para ti con Des','Iris','This is Why'],\n",
        "          'Artist': ['Jose Madero','Jaden','PXNDX','Donovan','Paramore'],\n",
        "          'Year': [2016,2017,2015,2023,2023],\n",
        "          'Type artist': ['Single','Single','Band','Single','Band']\n",
        "}"
      ],
      "metadata": {
        "id": "JvObEbQFU1vZ"
      },
      "execution_count": 37,
      "outputs": []
    },
    {
      "cell_type": "code",
      "source": [
        "songs_frame = pd.DataFrame(songs)\n",
        "print(songs_frame)"
      ],
      "metadata": {
        "colab": {
          "base_uri": "https://localhost:8080/"
        },
        "id": "n8uKmPVMVKTx",
        "outputId": "b8ec4c59-0537-4646-9939-cac0afa0a9bc"
      },
      "execution_count": 38,
      "outputs": [
        {
          "output_type": "stream",
          "name": "stdout",
          "text": [
            "             Album       Artist  Year Type artist\n",
            "0          Carmesí  Jose Madero  2016      Single\n",
            "1             Syre        Jaden  2017      Single\n",
            "2  Para ti con Des        PXNDX  2015        Band\n",
            "3             Iris      Donovan  2023      Single\n",
            "4      This is Why     Paramore  2023        Band\n"
          ]
        }
      ]
    },
    {
      "cell_type": "markdown",
      "source": [
        "\n",
        "\n",
        "---\n",
        "\n"
      ],
      "metadata": {
        "id": "eoJuRTxeZhZQ"
      }
    },
    {
      "cell_type": "markdown",
      "source": [
        "Extraer info de un DataFrame"
      ],
      "metadata": {
        "id": "1I-2RL2dYS4X"
      }
    },
    {
      "cell_type": "code",
      "source": [
        "new_dataframe =songs_frame[['Artist']]"
      ],
      "metadata": {
        "id": "4PP6OhKoW_N0"
      },
      "execution_count": 39,
      "outputs": []
    },
    {
      "cell_type": "code",
      "source": [
        "print(new_dataframe)"
      ],
      "metadata": {
        "colab": {
          "base_uri": "https://localhost:8080/"
        },
        "id": "LNbv5spzYNrF",
        "outputId": "938d2154-f32f-4f9a-e54b-f71d86d97d8d"
      },
      "execution_count": 40,
      "outputs": [
        {
          "output_type": "stream",
          "name": "stdout",
          "text": [
            "        Artist\n",
            "0  Jose Madero\n",
            "1        Jaden\n",
            "2        PXNDX\n",
            "3      Donovan\n",
            "4     Paramore\n"
          ]
        }
      ]
    },
    {
      "cell_type": "markdown",
      "source": [
        "Se puede hacer con más de un dato de la siguiente forma:"
      ],
      "metadata": {
        "id": "Mogtm3v6Zb7_"
      }
    },
    {
      "cell_type": "code",
      "source": [
        "new_dataframe2= songs_frame[['Artist','Type artist','Album']]"
      ],
      "metadata": {
        "id": "56OmeryfYX95"
      },
      "execution_count": 41,
      "outputs": []
    },
    {
      "cell_type": "code",
      "source": [
        "print(new_dataframe2)"
      ],
      "metadata": {
        "colab": {
          "base_uri": "https://localhost:8080/"
        },
        "id": "WOS7G0pbZT1l",
        "outputId": "59fce80e-bc04-4d22-bca5-70761e4a9084"
      },
      "execution_count": 42,
      "outputs": [
        {
          "output_type": "stream",
          "name": "stdout",
          "text": [
            "        Artist Type artist            Album\n",
            "0  Jose Madero      Single          Carmesí\n",
            "1        Jaden      Single             Syre\n",
            "2        PXNDX        Band  Para ti con Des\n",
            "3      Donovan      Single             Iris\n",
            "4     Paramore        Band      This is Why\n"
          ]
        }
      ]
    },
    {
      "cell_type": "markdown",
      "source": [
        "Descargar el contenido del nuevo dataframe que realizaste."
      ],
      "metadata": {
        "id": "4JRCp-ksfl13"
      }
    },
    {
      "cell_type": "code",
      "source": [
        "new_dataframe2.to_csv('dataframe_new_songs.csv')"
      ],
      "metadata": {
        "id": "V585TpFafYSV"
      },
      "execution_count": 51,
      "outputs": []
    },
    {
      "cell_type": "markdown",
      "source": [
        "\n",
        "\n",
        "---\n",
        "\n"
      ],
      "metadata": {
        "id": "hKZWmaclfzM1"
      }
    },
    {
      "cell_type": "code",
      "source": [
        "songs_frame = pd.DataFrame(songs)\n",
        "print(songs_frame)"
      ],
      "metadata": {
        "colab": {
          "base_uri": "https://localhost:8080/"
        },
        "id": "NVG1OjltfGGb",
        "outputId": "0bccd6a8-dae2-4319-e51f-dcff538dd6e7"
      },
      "execution_count": 49,
      "outputs": [
        {
          "output_type": "stream",
          "name": "stdout",
          "text": [
            "             Album       Artist  Year Type artist\n",
            "0          Carmesí  Jose Madero  2016      Single\n",
            "1             Syre        Jaden  2017      Single\n",
            "2  Para ti con Des        PXNDX  2015        Band\n",
            "3             Iris      Donovan  2023      Single\n",
            "4      This is Why     Paramore  2023        Band\n"
          ]
        }
      ]
    },
    {
      "cell_type": "code",
      "source": [
        "songs_frame['Year']>=2020"
      ],
      "metadata": {
        "colab": {
          "base_uri": "https://localhost:8080/"
        },
        "id": "0NoZk9v7dmfO",
        "outputId": "22cf1f6d-7eaf-4c33-bbc2-b61242ae3619"
      },
      "execution_count": 48,
      "outputs": [
        {
          "output_type": "execute_result",
          "data": {
            "text/plain": [
              "0    False\n",
              "1    False\n",
              "2    False\n",
              "3     True\n",
              "4     True\n",
              "Name: Year, dtype: bool"
            ]
          },
          "metadata": {},
          "execution_count": 48
        }
      ]
    }
  ]
}